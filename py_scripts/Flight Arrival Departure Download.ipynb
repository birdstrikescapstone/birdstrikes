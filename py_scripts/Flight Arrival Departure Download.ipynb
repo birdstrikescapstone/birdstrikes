{
 "cells": [
  {
   "cell_type": "code",
   "execution_count": null,
   "metadata": {
    "ExecuteTime": {
     "end_time": "2020-04-05T04:17:29.528909Z",
     "start_time": "2020-04-05T04:17:29.525528Z"
    },
    "run_control": {
     "marked": false
    }
   },
   "outputs": [],
   "source": [
    "# Import libraries\n",
    "from selenium import webdriver\n",
    "from selenium.webdriver.support.select import Select\n",
    "import datetime\n",
    "import os\n",
    "import glob\n",
    "from zipfile import ZipFile\n",
    "import time\n",
    "from selenium.webdriver.common.by import By"
   ]
  },
  {
   "cell_type": "code",
   "execution_count": null,
   "metadata": {
    "ExecuteTime": {
     "end_time": "2020-04-05T04:17:29.944494Z",
     "start_time": "2020-04-05T04:17:29.941383Z"
    },
    "run_control": {
     "marked": false
    }
   },
   "outputs": [],
   "source": [
    "# Declare constants\n",
    "download_loc = './Zips'\n",
    "move_loc = './Flights/'\n",
    "csv_ext = 'csv'\n",
    "zip_ext = 'zip'"
   ]
  },
  {
   "cell_type": "code",
   "execution_count": null,
   "metadata": {
    "ExecuteTime": {
     "end_time": "2020-04-05T04:17:44.865166Z",
     "start_time": "2020-04-05T04:17:30.272293Z"
    },
    "run_control": {
     "marked": false
    }
   },
   "outputs": [],
   "source": [
    "# Declare options for chrome and instantiate driver\n",
    "chromeOptions = webdriver.ChromeOptions()\n",
    "prefs = {\"download.default_directory\" : download_loc}\n",
    "chromeOptions.add_experimental_option(\"prefs\",prefs)\n",
    "wd = webdriver.Chrome(executable_path='./chromedriver', options=chromeOptions )\n",
    "wd.get(\"https://www.transtats.bts.gov/DL_SelectFields.asp?Table_ID=236\")"
   ]
  },
  {
   "cell_type": "code",
   "execution_count": null,
   "metadata": {
    "ExecuteTime": {
     "end_time": "2020-04-05T04:17:44.891937Z",
     "start_time": "2020-04-05T04:17:44.885232Z"
    },
    "run_control": {
     "marked": false
    }
   },
   "outputs": [],
   "source": [
    "# Declare input list to load from the website as constants\n",
    "month_list = ['January', 'February', 'March', 'April', 'May', 'June', 'July', 'August', 'September', 'October', 'November', 'December']\n",
    "years_back = 2\n",
    "year = datetime.datetime.today().year - 1\n",
    "years_list = [year - i for i in range(years_back+1)]\n",
    "years_list = [str(i) for i in years_list]\n",
    "input_list = ['FlightDate', 'Reporting_Airline', 'IATA_CODE_Reporting_Airline', 'Tail_Number', 'Flight_Number_Reporting_Airline', 'OriginAirportID', 'Origin', 'OriginCityName', 'OriginState', 'DestAirportID', 'Dest', 'DestCityName', 'DestState', 'CRSDepTime', 'DepTime', 'DepDelay', 'DepDelayMinutes', 'DepDel15', 'DepartureDelayGroups', 'DepTimeBlk', 'CRSArrTime', 'ArrTime', 'ArrDelay', 'ArrDelayMinutes', 'ArrDel15', 'ArrivalDelayGroups', 'ArrTimeBlk', 'Cancelled', 'CRSElapsedTime', 'ActualElapsedTime', 'Flights', 'CarrierDelay', 'WeatherDelay', 'NASDelay', 'SecurityDelay', 'LateAircraftDelay']"
   ]
  },
  {
   "cell_type": "code",
   "execution_count": null,
   "metadata": {
    "ExecuteTime": {
     "end_time": "2020-04-05T04:18:37.572533Z",
     "start_time": "2020-04-05T04:18:37.568559Z"
    }
   },
   "outputs": [],
   "source": [
    "# Function to select values in the select box based on the value. \n",
    "def loop_select_keys(eName, eValue):\n",
    "    attempt = 1\n",
    "    while True:\n",
    "        try:\n",
    "            time.sleep(0.5)\n",
    "            return Select(wd.find_element_by_id(eName)).select_by_visible_text(eValue)\n",
    "            print(attempt)\n",
    "        except (StaleElementReferenceException, ElementNotInteractableException, MoveTargetOutOfBoundsException, NoSuchElementException, InvalidElementStateException) :\n",
    "            if attempt == 10:\n",
    "                raise\n",
    "            attempt += 1"
   ]
  },
  {
   "cell_type": "code",
   "execution_count": null,
   "metadata": {
    "ExecuteTime": {
     "end_time": "2020-04-05T04:41:05.773929Z",
     "start_time": "2020-04-05T04:18:39.017828Z"
    },
    "run_control": {
     "marked": false
    }
   },
   "outputs": [],
   "source": [
    "# Select the state at which flight data needs to be downloaded\n",
    "loop_select_keys(\"GEOGRAPHY\", \"Colorado\")\n",
    "\n",
    "# Loop through the years in the listbox on the UI\n",
    "for year in years_list:\n",
    "\n",
    "    # Select Year\n",
    "    loop_select_keys(\"XYEAR\", year)\n",
    "    print(\"Selected\" + year)\n",
    "    time.sleep(2)\n",
    "    # Select Month\n",
    "    for month in month_list:\n",
    "        \n",
    "        loop_select_keys(\"FREQUENCY\", month)\n",
    "        print(\"Selected\" + month)\n",
    "        time.sleep(2)\n",
    "        # If the Code here is the first time then select all the inputs for download\n",
    "        if(year == \"2019\" and month == \"January\"):\n",
    "            for item in input_list:\n",
    "                wd.find_element_by_xpath(\"//*[@title='\" + item + \"']\").click()\n",
    "            time.sleep(2)\n",
    "            # Function to scroll to the top\n",
    "            wd.execute_script(\"window.scrollTo(0, window.scrollY - 2500)\")\n",
    "        time.sleep(2)\n",
    "        \n",
    "        # Click button to download\n",
    "        wd.find_element_by_class_name('tsbutton').click()\n",
    "        # Sleep is high as my internet is slow and it takes utmost 20 secs to download data for a month\n",
    "        time.sleep(20)\n",
    "        # Go to the download location\n",
    "        if(os.path.exists(download_loc)):\n",
    "            os.chdir(download_loc)\n",
    "            # Unzip the file\n",
    "            for zname in glob.glob('*.{}'.format(zip_ext)):\n",
    "                # opening the zip file in READ mode \n",
    "                with ZipFile(zname, 'r') as zip: \n",
    "                    # printing all the contents of the zip file \n",
    "                    zip.printdir() \n",
    "                    # extracting all the files  \n",
    "                    zip.extractall()\n",
    "                    for fname in glob.glob('*.{}'.format(csv_ext)):\n",
    "                        # Rename the file and move it to a different location\n",
    "                        os.rename(fname, move_loc + year + \"_\" + month + \".\" + csv_ext)\n",
    "        for dfiles in glob.glob('*.{}'.format(zip_ext)):\n",
    "            time.sleep(5)\n",
    "            # Remove the zip file from the zips folder\n",
    "            os.remove(dfiles)\n",
    "        print(\"Completed processing \", year + \"_\" + month)"
   ]
  },
  {
   "cell_type": "code",
   "execution_count": null,
   "metadata": {
    "run_control": {
     "marked": false
    }
   },
   "outputs": [],
   "source": []
  }
 ],
 "metadata": {
  "hide_input": false,
  "kernelspec": {
   "display_name": "Python 3",
   "language": "python",
   "name": "python3"
  },
  "language_info": {
   "codemirror_mode": {
    "name": "ipython",
    "version": 3
   },
   "file_extension": ".py",
   "mimetype": "text/x-python",
   "name": "python",
   "nbconvert_exporter": "python",
   "pygments_lexer": "ipython3",
   "version": "3.7.1"
  },
  "toc": {
   "base_numbering": 1,
   "nav_menu": {},
   "number_sections": true,
   "sideBar": true,
   "skip_h1_title": false,
   "title_cell": "Table of Contents",
   "title_sidebar": "Contents",
   "toc_cell": false,
   "toc_position": {},
   "toc_section_display": true,
   "toc_window_display": false
  },
  "varInspector": {
   "cols": {
    "lenName": 16,
    "lenType": 16,
    "lenVar": 40
   },
   "kernels_config": {
    "python": {
     "delete_cmd_postfix": "",
     "delete_cmd_prefix": "del ",
     "library": "var_list.py",
     "varRefreshCmd": "print(var_dic_list())"
    },
    "r": {
     "delete_cmd_postfix": ") ",
     "delete_cmd_prefix": "rm(",
     "library": "var_list.r",
     "varRefreshCmd": "cat(var_dic_list()) "
    }
   },
   "position": {
    "height": "501px",
    "left": "1310px",
    "right": "20px",
    "top": "120px",
    "width": "350px"
   },
   "types_to_exclude": [
    "module",
    "function",
    "builtin_function_or_method",
    "instance",
    "_Feature"
   ],
   "window_display": false
  }
 },
 "nbformat": 4,
 "nbformat_minor": 2
}
