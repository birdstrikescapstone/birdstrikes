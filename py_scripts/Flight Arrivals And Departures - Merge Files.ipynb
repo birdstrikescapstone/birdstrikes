{
 "cells": [
  {
   "cell_type": "markdown",
   "metadata": {},
   "source": [
    "#### Merge all the files"
   ]
  },
  {
   "cell_type": "markdown",
   "metadata": {},
   "source": [
    "* Check if all the files have the same number of columns\n",
    "    * If not, Remove extra columns\n",
    "* Filter records which have origin/departure city other than Denver\n",
    "* Write all records to a new file"
   ]
  },
  {
   "cell_type": "code",
   "execution_count": null,
   "metadata": {
    "ExecuteTime": {
     "end_time": "2020-04-24T01:47:42.897485Z",
     "start_time": "2020-04-24T01:47:42.894766Z"
    }
   },
   "outputs": [],
   "source": [
    "import pandas as pd\n",
    "import os\n",
    "import glob\n",
    "import datetime as dt"
   ]
  },
  {
   "cell_type": "code",
   "execution_count": null,
   "metadata": {},
   "outputs": [],
   "source": [
    "# Declare all the constants\n",
    "filename_arr_dep = 'Airline_Arrival_Departure.csv'\n",
    "unnamed_col_38 = 'Unnamed: 38'\n",
    "airport_name = 'DEN'\n",
    "fl_date = 'FL_DATE'\n",
    "arr_time_blk = 'ARR_TIME_BLK'\n",
    "dep_time_blk = 'DEP_TIME_BLK'\n",
    "counts = 'Counts'"
   ]
  },
  {
   "cell_type": "code",
   "execution_count": null,
   "metadata": {
    "ExecuteTime": {
     "end_time": "2020-04-24T01:47:43.465483Z",
     "start_time": "2020-04-24T01:47:43.462161Z"
    }
   },
   "outputs": [],
   "source": [
    "# Get all the csv files in the flights folder and sort\n",
    "flist = [f for f in glob.glob(\"./Flights/*.csv\")]\n",
    "flist = sorted(flist)"
   ]
  },
  {
   "cell_type": "code",
   "execution_count": null,
   "metadata": {
    "ExecuteTime": {
     "end_time": "2020-04-24T01:47:44.493823Z",
     "start_time": "2020-04-24T01:47:44.261710Z"
    },
    "code_folding": []
   },
   "outputs": [],
   "source": [
    "# Retain the data for the airport and filter out all the other airports in each file\n",
    "# Save the data to a new file\n",
    "\n",
    "for item in flist:\n",
    "\n",
    "    air_df = []\n",
    "\n",
    "    # reading csv file\n",
    "    air_df = pd.read_csv(item, header=0, encoding='iso-8859-1')\n",
    "\n",
    "    if unnamed_col_38 in air_df:\n",
    "        del air_df[unnamed_col_38]\n",
    "\n",
    "    air_df = air_df[(air_df.ORIGIN == airport_name) |\n",
    "                    (air_df.DEST == airport_name)]\n",
    "\n",
    "    #Save data to csv file\n",
    "    with open(filename_arr_dep, 'a') as f:\n",
    "        air_df.to_csv(f, mode='a', header=False, index=False)"
   ]
  },
  {
   "cell_type": "markdown",
   "metadata": {},
   "source": [
    "#### Group all the records of the Airline arrival and departure information by day and by hour"
   ]
  },
  {
   "cell_type": "code",
   "execution_count": null,
   "metadata": {
    "ExecuteTime": {
     "end_time": "2020-04-24T01:49:01.869329Z",
     "start_time": "2020-04-24T01:49:01.844664Z"
    }
   },
   "outputs": [],
   "source": [
    "# A manual step here is to add the header to the data after the data is saved in the above step \n",
    "# and then run this code chunk\n",
    "\n",
    "air = pd.read_csv(filename_arr_dep,\n",
    "                  header=0,\n",
    "                  encoding='iso-8859-1',\n",
    "                  low_memory=False)"
   ]
  },
  {
   "cell_type": "code",
   "execution_count": null,
   "metadata": {
    "ExecuteTime": {
     "end_time": "2020-04-24T01:49:08.715421Z",
     "start_time": "2020-04-24T01:49:08.692530Z"
    }
   },
   "outputs": [],
   "source": [
    "# Separate Arrivals from the data based on the DEST column and group by arrival blk time\n",
    "# Save the summarized data in a new file\n",
    "air_arr = air[air.DEST == airport_name]\n",
    "air_arr[fl_date] = pd.to_datetime(air_arr[fl_date], infer_datetime_format=True)\n",
    "air_arr_group = air_arr.sort_values([fl_date], ascending=True).groupby(\n",
    "    [fl_date, arr_time_blk]).size().reset_index(name=counts)\n",
    "#Save data to csv file\n",
    "air_arr_group.to_csv(r'Airline_Arrivals_Group.csv', index=None, header=True)"
   ]
  },
  {
   "cell_type": "code",
   "execution_count": null,
   "metadata": {
    "ExecuteTime": {
     "end_time": "2020-04-24T01:49:10.768157Z",
     "start_time": "2020-04-24T01:49:10.744494Z"
    }
   },
   "outputs": [],
   "source": [
    "# Separate Departures from the data based on the ORIGIN column and group by Departure blk time\n",
    "# Save the summarized data in a new file\n",
    "air_dep = air[air.ORIGIN == airport_name]\n",
    "air_dep[fl_date] = pd.to_datetime(air_dep[fl_date], infer_datetime_format=True)\n",
    "air_dep_group = air_dep.sort_values([fl_date], ascending=True).groupby(\n",
    "    [fl_date, dep_time_blk]).size().reset_index(name=counts)\n",
    "#Save data to csv file\n",
    "air_dep_group.to_csv(r'Airline_Departures_Group.csv', index=None, header=True)"
   ]
  }
 ],
 "metadata": {
  "hide_input": false,
  "kernelspec": {
   "display_name": "Python 3",
   "language": "python",
   "name": "python3"
  },
  "language_info": {
   "codemirror_mode": {
    "name": "ipython",
    "version": 3
   },
   "file_extension": ".py",
   "mimetype": "text/x-python",
   "name": "python",
   "nbconvert_exporter": "python",
   "pygments_lexer": "ipython3",
   "version": "3.7.1"
  },
  "toc": {
   "base_numbering": 1,
   "nav_menu": {},
   "number_sections": true,
   "sideBar": true,
   "skip_h1_title": false,
   "title_cell": "Table of Contents",
   "title_sidebar": "Contents",
   "toc_cell": false,
   "toc_position": {},
   "toc_section_display": true,
   "toc_window_display": false
  },
  "varInspector": {
   "cols": {
    "lenName": 16,
    "lenType": 16,
    "lenVar": 40
   },
   "kernels_config": {
    "python": {
     "delete_cmd_postfix": "",
     "delete_cmd_prefix": "del ",
     "library": "var_list.py",
     "varRefreshCmd": "print(var_dic_list())"
    },
    "r": {
     "delete_cmd_postfix": ") ",
     "delete_cmd_prefix": "rm(",
     "library": "var_list.r",
     "varRefreshCmd": "cat(var_dic_list()) "
    }
   },
   "types_to_exclude": [
    "module",
    "function",
    "builtin_function_or_method",
    "instance",
    "_Feature"
   ],
   "window_display": false
  }
 },
 "nbformat": 4,
 "nbformat_minor": 2
}
