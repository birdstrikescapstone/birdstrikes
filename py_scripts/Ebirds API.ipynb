{
 "cells": [
  {
   "cell_type": "markdown",
   "metadata": {},
   "source": [
    "### EBirds API "
   ]
  },
  {
   "cell_type": "markdown",
   "metadata": {},
   "source": [
    "Get data from Ebirds API for the count of birds in the sky at a given location from year 2000 till present date. Calculate the distance from Denver International Airport and filter the list to less than 10 miles as we are **assuming** that airplanes travel approximately 10 miles to climb a height of 2000 Ft altitude. Obviously, this cannot be generalized across all the flights as the climb various from smaller airframes to larger  but this could an educated guess based on our analysis."
   ]
  },
  {
   "cell_type": "code",
   "execution_count": 4,
   "metadata": {
    "ExecuteTime": {
     "end_time": "2020-03-29T07:41:59.582878Z",
     "start_time": "2020-03-29T07:41:59.563994Z"
    }
   },
   "outputs": [],
   "source": [
    "from geopy.distance import geodesic\n",
    "import pandas as pd\n",
    "import json\n",
    "from ebird.api import Client\n",
    "from pandas.io.json import json_normalize \n",
    "from datetime import datetime\n",
    "from datetime import datetime, timedelta"
   ]
  },
  {
   "cell_type": "markdown",
   "metadata": {},
   "source": [
    "#### Set up API"
   ]
  },
  {
   "cell_type": "code",
   "execution_count": 5,
   "metadata": {
    "ExecuteTime": {
     "end_time": "2020-03-29T07:42:01.685105Z",
     "start_time": "2020-03-29T07:42:01.674742Z"
    }
   },
   "outputs": [],
   "source": [
    "# Declare all static values for calling the API\n",
    "\n",
    "api_key = 'ldto4uofjnf7'\n",
    "locale = 'en'\n",
    "region_codes = ['US-CO-031','US-CO-001','US-CO-005', 'US-CO-059']\n",
    "startDate = datetime.strptime('2018/03/01', \"%Y/%m/%d\")\n",
    "endDate = datetime.strptime('2019/12/31', '%Y/%m/%d')\n",
    "client = Client(api_key, locale)\n",
    "filename = 'birdCount_DEN_1.csv'\n",
    "\n",
    "\n",
    "# Latitude and Longitude for Denver International Airport\n",
    "dia = (39.861698150635, -104.672996521)\n",
    "\n",
    "# Declare an empty dataframe to store all the records\n",
    "df = pd.DataFrame(columns = ['obsId', 'locId', 'locName', 'obsDt', 'lat', 'lng', 'subnational2Code', 'subnational2Name', 'comName', 'sciName', 'speciesCode', 'howMany'])"
   ]
  },
  {
   "cell_type": "markdown",
   "metadata": {},
   "source": [
    "#### Call API with credentials and other required headers and save data to file"
   ]
  },
  {
   "cell_type": "code",
   "execution_count": 6,
   "metadata": {
    "ExecuteTime": {
     "end_time": "2020-03-29T08:16:51.373846Z",
     "start_time": "2020-03-29T07:42:08.634629Z"
    }
   },
   "outputs": [],
   "source": [
    "\n",
    "# Call the API till startdate and enddate match\n",
    "while(startDate != endDate):\n",
    "    \n",
    "    # Iterate through all the regions around DIA Airport\n",
    "    for code in region_codes:\n",
    "        \n",
    "        # Call to API\n",
    "        response = client.get_historic_observations(code, startDate)\n",
    "        if len(response) > 0:\n",
    "            # Convert the response JSON to a Pandas dataframe\n",
    "            df = pd.DataFrame(response)\n",
    "            \n",
    "            # If howMany Column doesn't exist then create that and fill with 0's\n",
    "            if 'howMany' not in df.columns:\n",
    "                df['howMany'] = 0\n",
    "                \n",
    "            # Get only the required fields into the dataframe\n",
    "            df = df[['obsId', 'locId', 'locName', 'obsDt', 'lat', 'lng', 'subnational2Code', 'subnational2Name', 'comName', 'sciName', 'speciesCode', 'howMany']]\n",
    "        else:\n",
    "            print(\"No data received from the API for\", startDate, code)\n",
    "\n",
    "        # Create a new column called milesFromAirport\n",
    "        if 'milesFromAirport' not in df:\n",
    "            df['milesFromAirport'] = 0.00        \n",
    "            \n",
    "        # Iterate through all the rows and calculate the distance from \n",
    "        # DIA airport coordinates provided in the ICAO Codes\n",
    "        for index, row in df.iterrows():\n",
    "            \n",
    "            # Create Location object\n",
    "            location = (row['lat'], row['lng'])\n",
    "\n",
    "            # Calculate distance\n",
    "            df.loc[index, 'milesFromAirport'] = geodesic(dia, location).miles\n",
    "            \n",
    "        # Filter data in the dataframe to less than 20 miles from DIA\n",
    "        df = df[df['milesFromAirport'] <= 12]\n",
    "        \n",
    "        #Save data to csv file\n",
    "        with open(filename, 'a') as f:\n",
    "            df.to_csv(f, mode='a', header=False)\n",
    "            \n",
    "    # Increament startDate to next day\n",
    "    startDate = startDate + timedelta(days=1)\n"
   ]
  },
  {
   "cell_type": "markdown",
   "metadata": {},
   "source": [
    "#### Aggregate data based on Observation date"
   ]
  },
  {
   "cell_type": "code",
   "execution_count": 7,
   "metadata": {
    "ExecuteTime": {
     "end_time": "2020-03-29T08:36:42.937121Z",
     "start_time": "2020-03-29T08:34:31.340015Z"
    }
   },
   "outputs": [],
   "source": [
    "# reading csv file  \n",
    "bc = pd.read_csv(\"birdCount_DEN.csv\", header=0)\n",
    "\n",
    "for index, row in bc.iterrows():\n",
    "    bc.loc[index, 'observationDate'] = datetime.strptime(row['obsDt'].split(' ')[0], \"%m/%d/%y\")"
   ]
  },
  {
   "cell_type": "code",
   "execution_count": 9,
   "metadata": {
    "ExecuteTime": {
     "end_time": "2020-03-29T08:37:10.838234Z",
     "start_time": "2020-03-29T08:37:09.089675Z"
    }
   },
   "outputs": [],
   "source": [
    "#Save data to csv file\n",
    "bc.to_csv(r'birdCount_Modified_DEN.csv', index = None, header=True)"
   ]
  },
  {
   "cell_type": "code",
   "execution_count": 10,
   "metadata": {
    "ExecuteTime": {
     "end_time": "2020-03-29T08:37:16.640418Z",
     "start_time": "2020-03-29T08:37:16.624222Z"
    }
   },
   "outputs": [],
   "source": [
    "bcgroup = bc.groupby('observationDate').agg({'howMany':'sum'}).reset_index().rename(columns={'howMany':'birdCount'})"
   ]
  },
  {
   "cell_type": "code",
   "execution_count": 12,
   "metadata": {
    "ExecuteTime": {
     "end_time": "2020-03-29T08:37:31.618560Z",
     "start_time": "2020-03-29T08:37:31.579057Z"
    }
   },
   "outputs": [],
   "source": [
    "#Save data to csv file\n",
    "bcgroup.to_csv(r'birdCount_Aggregated_DEN.csv', index = None, header=True)"
   ]
  }
 ],
 "metadata": {
  "hide_input": false,
  "kernelspec": {
   "display_name": "Python 3",
   "language": "python",
   "name": "python3"
  },
  "language_info": {
   "codemirror_mode": {
    "name": "ipython",
    "version": 3
   },
   "file_extension": ".py",
   "mimetype": "text/x-python",
   "name": "python",
   "nbconvert_exporter": "python",
   "pygments_lexer": "ipython3",
   "version": "3.7.1"
  },
  "toc": {
   "base_numbering": 1,
   "nav_menu": {},
   "number_sections": true,
   "sideBar": true,
   "skip_h1_title": false,
   "title_cell": "Table of Contents",
   "title_sidebar": "Contents",
   "toc_cell": false,
   "toc_position": {
    "height": "calc(100% - 180px)",
    "left": "10px",
    "top": "150px",
    "width": "233px"
   },
   "toc_section_display": true,
   "toc_window_display": true
  },
  "varInspector": {
   "cols": {
    "lenName": 16,
    "lenType": 16,
    "lenVar": 40
   },
   "kernels_config": {
    "python": {
     "delete_cmd_postfix": "",
     "delete_cmd_prefix": "del ",
     "library": "var_list.py",
     "varRefreshCmd": "print(var_dic_list())"
    },
    "r": {
     "delete_cmd_postfix": ") ",
     "delete_cmd_prefix": "rm(",
     "library": "var_list.r",
     "varRefreshCmd": "cat(var_dic_list()) "
    }
   },
   "oldHeight": 549,
   "position": {
    "height": "571px",
    "left": "890px",
    "right": "20px",
    "top": "46px",
    "width": "372px"
   },
   "types_to_exclude": [
    "module",
    "function",
    "builtin_function_or_method",
    "instance",
    "_Feature"
   ],
   "varInspector_section_display": "block",
   "window_display": false
  }
 },
 "nbformat": 4,
 "nbformat_minor": 2
}
